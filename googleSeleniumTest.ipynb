{
 "cells": [
  {
   "cell_type": "code",
   "execution_count": 6,
   "id": "944a1ba5",
   "metadata": {},
   "outputs": [],
   "source": [
    "import undetected_chromedriver as uc\n",
    "from selenium.webdriver.common.by import By\n",
    "from selenium.webdriver.support.ui import WebDriverWait\n",
    "from selenium.webdriver.support import expected_conditions as EC\n",
    "from time import sleep"
   ]
  },
  {
   "cell_type": "code",
   "execution_count": 7,
   "id": "94aa4cb4",
   "metadata": {},
   "outputs": [],
   "source": [
    "email = 'vidratarka123@gmail.com'\n",
    "password = 'vidratarka'                                                                      "
   ]
  },
  {
   "cell_type": "code",
   "execution_count": null,
   "id": "386e850b",
   "metadata": {},
   "outputs": [],
   "source": [
    "driver = uc.Chrome(use_subprocess=True)\n",
    "wait = WebDriverWait(driver, 60)\n",
    "url = 'http://localhost:4200/login'\n",
    "driver.get(url)\n",
    "\n",
    "#login-page\n",
    "current_window = driver.current_window_handle\n",
    "wait.until(EC.visibility_of_element_located((By.ID, 'googleButtonDiv'))).click();\n",
    "for w in driver.window_handles:\n",
    "    if (w != current_window):\n",
    "        driver.switch_to.window(w)\n",
    "\n",
    "wait.until(EC.visibility_of_element_located((By.ID, 'identifierId'))).send_keys(email)\n",
    "wait.until(EC.visibility_of_element_located((By.CSS_SELECTOR, 'button.VfPpkd-LgbsSe-OWXEXe-k8QpJ'))).click()\n",
    "wait.until(EC.visibility_of_element_located((By.XPATH, \"//input[@type='password']\"))).send_keys(password)\n",
    "wait.until(EC.visibility_of_element_located((By.CSS_SELECTOR, 'button.VfPpkd-LgbsSe-OWXEXe-k8QpJ'))).click()\n",
    "driver.switch_to.window(current_window)\n",
    "wait.until(EC.visibility_of_element_located((By.ID, 'uber-passenger')))\n",
    "print(\"Stigao sam na passenger stranicu!\")"
   ]
  },
  {
   "cell_type": "code",
   "execution_count": null,
   "id": "3774b010",
   "metadata": {},
   "outputs": [],
   "source": []
  }
 ],
 "metadata": {
  "kernelspec": {
   "display_name": "Python 3 (ipykernel)",
   "language": "python",
   "name": "python3"
  },
  "language_info": {
   "codemirror_mode": {
    "name": "ipython",
    "version": 3
   },
   "file_extension": ".py",
   "mimetype": "text/x-python",
   "name": "python",
   "nbconvert_exporter": "python",
   "pygments_lexer": "ipython3",
   "version": "3.11.1"
  }
 },
 "nbformat": 4,
 "nbformat_minor": 5
}
